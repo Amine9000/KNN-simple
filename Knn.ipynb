{
 "cells": [
  {
   "cell_type": "code",
   "execution_count": 191,
   "metadata": {},
   "outputs": [],
   "source": [
    "import numpy as np\n",
    "from collections import Counter\n",
    "from sklearn import datasets\n",
    "from sklearn.model_selection import train_test_split"
   ]
  },
  {
   "cell_type": "code",
   "execution_count": 192,
   "metadata": {},
   "outputs": [],
   "source": [
    "iris = datasets.load_iris()\n",
    "X,y = iris.data,iris.target\n",
    "\n",
    "X_train,X_test,y_train,y_test=train_test_split(X,y,test_size=0.2)"
   ]
  },
  {
   "cell_type": "code",
   "execution_count": 193,
   "metadata": {},
   "outputs": [],
   "source": [
    "from numpy import indices\n",
    "\n",
    "\n",
    "class KNN:\n",
    "    def __init__(self,k=3):\n",
    "        self.k = k\n",
    "    \n",
    "    def fit(self,X,Y):\n",
    "        self.X = X\n",
    "        self.Y = Y\n",
    "\n",
    "    def predict(self,X):\n",
    "        predict_labels = [self._predict(x) for x in X]\n",
    "        return np.array(predict_labels)\n",
    "\n",
    "    def _predict(self,x):\n",
    "        # calculate the distance between x and every other sample\n",
    "        distances = [self.euclidean_dist(x,x_i) for x_i in self.X]\n",
    "        # get the k nearest samples,labels\n",
    "        indices = np.argsort(distances)[:self.k]\n",
    "        k_nearest_labels = [self.Y[i] for i in indices]\n",
    "        # most common class label\n",
    "        most_common = Counter(k_nearest_labels).most_common(1)[0][0]\n",
    "        return most_common\n",
    "    \n",
    "    def euclidean_dist(self,x,y):\n",
    "        return np.sqrt(np.sum((x-y)**2))\n",
    "\n"
   ]
  },
  {
   "cell_type": "code",
   "execution_count": 194,
   "metadata": {},
   "outputs": [],
   "source": [
    "# TESTING\n",
    "\n",
    "# k = KNN(k=5)\n",
    "# k.fit(X_train,y_train)\n",
    "# p = k.predict(X_test)\n",
    "\n",
    "# acc = np.sum(p == y_test) / len(y_test)*100\n",
    "\n"
   ]
  }
 ],
 "metadata": {
  "kernelspec": {
   "display_name": "Python 3.9.12 ('base')",
   "language": "python",
   "name": "python3"
  },
  "language_info": {
   "codemirror_mode": {
    "name": "ipython",
    "version": 3
   },
   "file_extension": ".py",
   "mimetype": "text/x-python",
   "name": "python",
   "nbconvert_exporter": "python",
   "pygments_lexer": "ipython3",
   "version": "3.9.12"
  },
  "orig_nbformat": 4,
  "vscode": {
   "interpreter": {
    "hash": "7697c74c73ca5e815163265932aba4594bde1d9a3bcd9e9a7876e2329f20ee3f"
   }
  }
 },
 "nbformat": 4,
 "nbformat_minor": 2
}
